{
 "cells": [
  {
   "cell_type": "code",
   "execution_count": 1,
   "metadata": {},
   "outputs": [],
   "source": [
    "from candidates.models import SavedCandidate\n",
    "from jobs.models import Job\n",
    "from groups.models import Group"
   ]
  },
  {
   "cell_type": "markdown",
   "metadata": {},
   "source": [
    "## Creating groups\n",
    "We are going to create a simple group."
   ]
  },
  {
   "cell_type": "code",
   "execution_count": 2,
   "metadata": {},
   "outputs": [
    {
     "data": {
      "text/plain": [
       "17"
      ]
     },
     "execution_count": 2,
     "metadata": {},
     "output_type": "execute_result"
    }
   ],
   "source": [
    "group = Group.objects.create(name='My First Group')\n",
    "group.pk"
   ]
  },
  {
   "cell_type": "markdown",
   "metadata": {},
   "source": [
    "Now lets create a group that is a child of the first group."
   ]
  },
  {
   "cell_type": "code",
   "execution_count": 3,
   "metadata": {},
   "outputs": [],
   "source": [
    "group_child = Group.objects.create(name='Child of (My First Group)', parent_group=group)"
   ]
  },
  {
   "cell_type": "code",
   "execution_count": 4,
   "metadata": {},
   "outputs": [
    {
     "data": {
      "text/plain": [
       "'My First Group'"
      ]
     },
     "execution_count": 4,
     "metadata": {},
     "output_type": "execute_result"
    }
   ],
   "source": [
    "group_child.parent_group.name"
   ]
  },
  {
   "cell_type": "markdown",
   "metadata": {},
   "source": [
    "### Creating jobs\n",
    "Now that we have a few groups lets create some jobs to add to the groups."
   ]
  },
  {
   "cell_type": "code",
   "execution_count": 5,
   "metadata": {},
   "outputs": [],
   "source": [
    "job_1 = Job.objects.create(title='Job 1')\n",
    "job_2 = Job.objects.create(title='Job 2')"
   ]
  },
  {
   "cell_type": "markdown",
   "metadata": {},
   "source": [
    "### Adding jobs to a group"
   ]
  },
  {
   "cell_type": "code",
   "execution_count": 6,
   "metadata": {},
   "outputs": [],
   "source": [
    "group.jobs.add(job_1)\n",
    "group_child.jobs.add(job_2)"
   ]
  },
  {
   "cell_type": "markdown",
   "metadata": {},
   "source": [
    "### Ok now lets add some saved candidates to a new group"
   ]
  },
  {
   "cell_type": "code",
   "execution_count": 7,
   "metadata": {},
   "outputs": [],
   "source": [
    "candidate_1 = SavedCandidate.objects.create(name='Candidate 1')\n",
    "candidate_2 = SavedCandidate.objects.create(name='Candidate 2')\n",
    "group_2 = Group.objects.create(name='Group 2')\n",
    "group_2_child = Group.objects.create(name='Group 2 Child', parent_group=group_2)\n",
    "group_2_child.saved_candidates.add(candidate_1)\n",
    "group_2_child.saved_candidates.add(candidate_2)"
   ]
  },
  {
   "cell_type": "markdown",
   "metadata": {},
   "source": [
    "Lets loop all the groups and display there names, jobs and saved candiates for each."
   ]
  },
  {
   "cell_type": "code",
   "execution_count": 8,
   "metadata": {},
   "outputs": [
    {
     "name": "stdout",
     "output_type": "stream",
     "text": [
      "Group: My First Group\n",
      "jobs: 1\n",
      "Job 1\n",
      "saved candidates: 0\n",
      "\n",
      "\n",
      "Group: Child of (My First Group)\n",
      "jobs: 1\n",
      "Job 2\n",
      "saved candidates: 0\n",
      "\n",
      "\n",
      "Group: Group 2\n",
      "jobs: 0\n",
      "saved candidates: 0\n",
      "\n",
      "\n",
      "Group: Group 2 Child\n",
      "jobs: 0\n",
      "saved candidates: 2\n",
      "Candidate 1\n",
      "Candidate 2\n",
      "\n",
      "\n",
      "Group: My First Group\n",
      "jobs: 1\n",
      "Job 1\n",
      "saved candidates: 0\n",
      "\n",
      "\n",
      "Group: Child of (My First Group)\n",
      "jobs: 1\n",
      "Job 2\n",
      "saved candidates: 0\n",
      "\n",
      "\n",
      "Group: Group 2\n",
      "jobs: 0\n",
      "saved candidates: 0\n",
      "\n",
      "\n",
      "Group: Group 2 Child\n",
      "jobs: 0\n",
      "saved candidates: 2\n",
      "Candidate 1\n",
      "Candidate 2\n",
      "\n",
      "\n",
      "Group: My First Group\n",
      "jobs: 1\n",
      "Job 1\n",
      "saved candidates: 0\n",
      "\n",
      "\n",
      "Group: Child of (My First Group)\n",
      "jobs: 1\n",
      "Job 2\n",
      "saved candidates: 0\n",
      "\n",
      "\n",
      "Group: Group 2\n",
      "jobs: 0\n",
      "saved candidates: 0\n",
      "\n",
      "\n",
      "Group: Group 2 Child\n",
      "jobs: 0\n",
      "saved candidates: 0\n",
      "\n",
      "\n",
      "Group: My First Group\n",
      "jobs: 1\n",
      "Job 1\n",
      "saved candidates: 0\n",
      "\n",
      "\n",
      "Group: Child of (My First Group)\n",
      "jobs: 1\n",
      "Job 2\n",
      "saved candidates: 0\n",
      "\n",
      "\n",
      "Group: Group 2\n",
      "jobs: 0\n",
      "saved candidates: 0\n",
      "\n",
      "\n",
      "Group: Group 2 Child\n",
      "jobs: 0\n",
      "saved candidates: 0\n",
      "\n",
      "\n",
      "Group: My First Group\n",
      "jobs: 1\n",
      "Job 1\n",
      "saved candidates: 0\n",
      "\n",
      "\n",
      "Group: Child of (My First Group)\n",
      "jobs: 1\n",
      "Job 2\n",
      "saved candidates: 0\n",
      "\n",
      "\n",
      "Group: Group 2\n",
      "jobs: 0\n",
      "saved candidates: 0\n",
      "\n",
      "\n",
      "Group: Group 2 Child\n",
      "jobs: 0\n",
      "saved candidates: 2\n",
      "Candidate 1\n",
      "Candidate 2\n",
      "\n",
      "\n"
     ]
    }
   ],
   "source": [
    "for group in Group.objects.all():\n",
    "    print(\"Group: {}\".format(group.name))\n",
    "    print(\"jobs: {}\".format(group.jobs.count()))\n",
    "    for job in group.jobs.all():\n",
    "        print(job.title)\n",
    "        \n",
    "    print(\"saved candidates: {}\".format(group.saved_candidates.count()))\n",
    "    for candidate in group.saved_candidates.all():\n",
    "        print(candidate.name)\n",
    "    print(\"\\n\")"
   ]
  },
  {
   "cell_type": "code",
   "execution_count": null,
   "metadata": {},
   "outputs": [],
   "source": []
  }
 ],
 "metadata": {
  "kernelspec": {
   "display_name": "Django Shell-Plus",
   "language": "python",
   "name": "django_extensions"
  },
  "language_info": {
   "codemirror_mode": {
    "name": "ipython",
    "version": 3
   },
   "file_extension": ".py",
   "mimetype": "text/x-python",
   "name": "python",
   "nbconvert_exporter": "python",
   "pygments_lexer": "ipython3",
   "version": "3.6.4"
  }
 },
 "nbformat": 4,
 "nbformat_minor": 2
}
